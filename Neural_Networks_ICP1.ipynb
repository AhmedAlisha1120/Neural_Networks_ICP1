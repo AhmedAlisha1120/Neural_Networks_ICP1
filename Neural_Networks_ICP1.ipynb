{
 "cells": [
  {
   "cell_type": "code",
   "execution_count": 1,
   "id": "38f1d4e7",
   "metadata": {},
   "outputs": [
    {
     "name": "stdout",
     "output_type": "stream",
     "text": [
      "Enter the first nameGood\n",
      "Enter the last nameEvening\n",
      "Good Evening\n",
      "Go vnn\n"
     ]
    }
   ],
   "source": [
    "# Function to get the full name and return it\n",
    "def full_name():\n",
    "    first_name=input(\"Enter the first name\")# Used input function to accept a string from the user and stored in a variable\n",
    "    last_name=input(\"Enter the last name\")\n",
    "    full_name=f\"{first_name} {last_name}\"\n",
    "    print(full_name)\n",
    "    return full_name\n",
    "\n",
    "# Function to return every other character from the full name\n",
    "def string_alternative():\n",
    "    word = full_name()\n",
    "    odd_chars = [word[i] for i in range(0, len(word), 2)]\n",
    "    print(\"\".join(odd_chars))\n",
    "string_alternative()"
   ]
  },
  {
   "cell_type": "code",
   "execution_count": 4,
   "id": "88c10edc",
   "metadata": {},
   "outputs": [
    {
     "name": "stdout",
     "output_type": "stream",
     "text": [
      "Deep: 1\n",
      "Course: 2\n",
      "Learning: 1\n",
      "Python: 1\n",
      "\n"
     ]
    }
   ],
   "source": [
    "with open('input_file.txt', 'r') as ipf:# Read from input file\n",
    "    content = ipf.read()\n",
    "words = content.split()# Split content into words\n",
    "\n",
    "with open('output_file.txt', 'w') as opf:# Count each word and write to output file\n",
    "    for word in set(words):\n",
    "        opf.write(f\"{word}: {words.count(word)}\\n\")\n",
    "\n",
    "with open('output_file.txt', 'r') as opf:# Print the output file content\n",
    "    print(opf.read())"
   ]
  },
  {
   "cell_type": "code",
   "execution_count": 6,
   "id": "5a82b92f",
   "metadata": {},
   "outputs": [
    {
     "name": "stdout",
     "output_type": "stream",
     "text": [
      "Enter the number of customers: 4\n",
      "Enter height in inches for customer 1: 150\n",
      "Enter height in inches for customer 2: 155\n",
      "Enter height in inches for customer 3: 145\n",
      "Enter height in inches for customer 4: 148\n",
      "Heights in centimeters: [381.0, 393.7, 368.3, 375.92]\n"
     ]
    }
   ],
   "source": [
    "num_customers = int(input(\"Enter the number of customers: \"))# Get the number of customers\n",
    "heights = []  # Empty list to store heights in inches\n",
    "\n",
    "for i in range(num_customers):# Outer loop: Iterate through each customer\n",
    "    while True:\n",
    "        height = float(input(f\"Enter height in inches for customer {i+1}: \")) # Ask for height input for each customer\n",
    "        if height > 0: # Check if height is positive\n",
    "            heights.append(height)  # Add valid height to the list\n",
    "            break  # Exit the loop once valid height is entered\n",
    "        else:\n",
    "            print(\"Please enter a positive height in inches.\")\n",
    "\n",
    "heights_in_cm = []# Convert heights to centimeters\n",
    "for height in heights:\n",
    "    cm = height * 2.54  # Conversion factor from inches to cm\n",
    "    heights_in_cm.append(round(cm, 2))  # Append the rounded value to the output list\n",
    "print(\"Heights in centimeters:\", heights_in_cm)# Output the converted heights in centimeters\n"
   ]
  },
  {
   "cell_type": "code",
   "execution_count": 10,
   "id": "ea168ac1",
   "metadata": {},
   "outputs": [
    {
     "name": "stdout",
     "output_type": "stream",
     "text": [
      "Enter the number of customers: 4\n",
      "Enter height in inches for customer 1: 150\n",
      "Enter height in inches for customer 2: 155\n",
      "Enter height in inches for customer 3: 145\n",
      "Enter height in inches for customer 4: 148\n",
      "Heights in centimeters: [381.0, 393.7, 368.3, 375.92]\n"
     ]
    }
   ],
   "source": [
    "num_customers = int(input(\"Enter the number of customers: \"))# Get the number of customers\n",
    "# Use list comprehension to read valid heights in inches\n",
    "heights = []\n",
    "for i in range(num_customers):\n",
    "    while True:\n",
    "        height = float(input(f\"Enter height in inches for customer {i+1}: \"))\n",
    "        if height > 0:\n",
    "            heights.append(height)\n",
    "            break\n",
    "        else:\n",
    "            print(\"Please enter a positive height in inches.\")\n",
    "heights_in_cm = [round(height * 2.54, 2) for height in heights]# Convert heights to centimeters using list comprehension\n",
    "print(\"Heights in centimeters:\", heights_in_cm)# Output the converted heights in centimeters\n"
   ]
  },
  {
   "cell_type": "code",
   "execution_count": null,
   "id": "97ce2938",
   "metadata": {},
   "outputs": [],
   "source": []
  }
 ],
 "metadata": {
  "kernelspec": {
   "display_name": "Python 3 (ipykernel)",
   "language": "python",
   "name": "python3"
  },
  "language_info": {
   "codemirror_mode": {
    "name": "ipython",
    "version": 3
   },
   "file_extension": ".py",
   "mimetype": "text/x-python",
   "name": "python",
   "nbconvert_exporter": "python",
   "pygments_lexer": "ipython3",
   "version": "3.11.4"
  }
 },
 "nbformat": 4,
 "nbformat_minor": 5
}
